{
  "nbformat": 4,
  "nbformat_minor": 0,
  "metadata": {
    "colab": {
      "provenance": [],
      "authorship_tag": "ABX9TyPJ0UfKpsWcLt8U8frzt3ni",
      "include_colab_link": true
    },
    "kernelspec": {
      "name": "python3",
      "display_name": "Python 3"
    },
    "language_info": {
      "name": "python"
    },
    "accelerator": "GPU",
    "gpuClass": "standard"
  },
  "cells": [
    {
      "cell_type": "markdown",
      "metadata": {
        "id": "view-in-github",
        "colab_type": "text"
      },
      "source": [
        "<a href=\"https://colab.research.google.com/github/MK316/workspace/blob/main/ASR01/ASR03_Recognition_SK.ipynb\" target=\"_parent\"><img src=\"https://colab.research.google.com/assets/colab-badge.svg\" alt=\"Open In Colab\"/></a>"
      ]
    },
    {
      "cell_type": "markdown",
      "source": [
        "# 🔍 Audio file recognition process\n",
        "\n",
        "Note: change 'runtime' type to 'gpu' before you start.\n",
        "\n",
        "SE data: model (base.en)\n",
        "SK data: model (base.en), (medium.en) => 2 result files\n",
        "\n",
        "=> Better result with **medium.en**"
      ],
      "metadata": {
        "id": "0Yp1OS-oa_i5"
      }
    },
    {
      "cell_type": "markdown",
      "source": [
        "* Audio file from Github\n",
        "https://github.com/MK316/workspace/tree/main/ASR01/SE"
      ],
      "metadata": {
        "id": "NpohKy5mbfPU"
      }
    },
    {
      "cell_type": "markdown",
      "source": [
        "## Getting ready"
      ],
      "metadata": {
        "id": "hXXUO7Tny1WK"
      }
    },
    {
      "cell_type": "code",
      "execution_count": 1,
      "metadata": {
        "id": "7mIRrDv80Onc",
        "cellView": "form"
      },
      "outputs": [],
      "source": [
        "#@markdown Install {IPython.display} and {Pandas}\n",
        "from IPython.display import Audio\n",
        "import pandas as pd"
      ]
    },
    {
      "cell_type": "markdown",
      "source": [
        "* Text file (sentence list) from Github https://raw.githubusercontent.com/MK316/workspace/main/ASR01/data/rainbow_sentences.csv"
      ],
      "metadata": {
        "id": "mIuJPl2jcf-g"
      }
    },
    {
      "cell_type": "code",
      "source": [
        "#@markdown Sentence texts to bring\n",
        "url = \"https://raw.githubusercontent.com/MK316/workspace/main/ASR01/data/rainbow_sentences.csv\"\n",
        "data = pd.read_csv(url)\n",
        "data.head()"
      ],
      "metadata": {
        "colab": {
          "base_uri": "https://localhost:8080/",
          "height": 206
        },
        "id": "fGoFTws7cK7i",
        "outputId": "0b30311c-3f45-4616-8621-90e536734fc3",
        "cellView": "form"
      },
      "execution_count": 2,
      "outputs": [
        {
          "output_type": "execute_result",
          "data": {
            "text/plain": [
              "   SN                                           Sentence\n",
              "0  S1  When the sunlight strikes raindrops in the air...\n",
              "1  S2  The rainbow is a division of white light into ...\n",
              "2  S3  These take the shape of a long round arch, wit...\n",
              "3  S4  There is, according to legend, a boiling pot o...\n",
              "4  S5             People look, but no one ever finds it."
            ],
            "text/html": [
              "\n",
              "  <div id=\"df-df3baea1-3474-4667-bc77-77e7d96f09e7\">\n",
              "    <div class=\"colab-df-container\">\n",
              "      <div>\n",
              "<style scoped>\n",
              "    .dataframe tbody tr th:only-of-type {\n",
              "        vertical-align: middle;\n",
              "    }\n",
              "\n",
              "    .dataframe tbody tr th {\n",
              "        vertical-align: top;\n",
              "    }\n",
              "\n",
              "    .dataframe thead th {\n",
              "        text-align: right;\n",
              "    }\n",
              "</style>\n",
              "<table border=\"1\" class=\"dataframe\">\n",
              "  <thead>\n",
              "    <tr style=\"text-align: right;\">\n",
              "      <th></th>\n",
              "      <th>SN</th>\n",
              "      <th>Sentence</th>\n",
              "    </tr>\n",
              "  </thead>\n",
              "  <tbody>\n",
              "    <tr>\n",
              "      <th>0</th>\n",
              "      <td>S1</td>\n",
              "      <td>When the sunlight strikes raindrops in the air...</td>\n",
              "    </tr>\n",
              "    <tr>\n",
              "      <th>1</th>\n",
              "      <td>S2</td>\n",
              "      <td>The rainbow is a division of white light into ...</td>\n",
              "    </tr>\n",
              "    <tr>\n",
              "      <th>2</th>\n",
              "      <td>S3</td>\n",
              "      <td>These take the shape of a long round arch, wit...</td>\n",
              "    </tr>\n",
              "    <tr>\n",
              "      <th>3</th>\n",
              "      <td>S4</td>\n",
              "      <td>There is, according to legend, a boiling pot o...</td>\n",
              "    </tr>\n",
              "    <tr>\n",
              "      <th>4</th>\n",
              "      <td>S5</td>\n",
              "      <td>People look, but no one ever finds it.</td>\n",
              "    </tr>\n",
              "  </tbody>\n",
              "</table>\n",
              "</div>\n",
              "      <button class=\"colab-df-convert\" onclick=\"convertToInteractive('df-df3baea1-3474-4667-bc77-77e7d96f09e7')\"\n",
              "              title=\"Convert this dataframe to an interactive table.\"\n",
              "              style=\"display:none;\">\n",
              "        \n",
              "  <svg xmlns=\"http://www.w3.org/2000/svg\" height=\"24px\"viewBox=\"0 0 24 24\"\n",
              "       width=\"24px\">\n",
              "    <path d=\"M0 0h24v24H0V0z\" fill=\"none\"/>\n",
              "    <path d=\"M18.56 5.44l.94 2.06.94-2.06 2.06-.94-2.06-.94-.94-2.06-.94 2.06-2.06.94zm-11 1L8.5 8.5l.94-2.06 2.06-.94-2.06-.94L8.5 2.5l-.94 2.06-2.06.94zm10 10l.94 2.06.94-2.06 2.06-.94-2.06-.94-.94-2.06-.94 2.06-2.06.94z\"/><path d=\"M17.41 7.96l-1.37-1.37c-.4-.4-.92-.59-1.43-.59-.52 0-1.04.2-1.43.59L10.3 9.45l-7.72 7.72c-.78.78-.78 2.05 0 2.83L4 21.41c.39.39.9.59 1.41.59.51 0 1.02-.2 1.41-.59l7.78-7.78 2.81-2.81c.8-.78.8-2.07 0-2.86zM5.41 20L4 18.59l7.72-7.72 1.47 1.35L5.41 20z\"/>\n",
              "  </svg>\n",
              "      </button>\n",
              "      \n",
              "  <style>\n",
              "    .colab-df-container {\n",
              "      display:flex;\n",
              "      flex-wrap:wrap;\n",
              "      gap: 12px;\n",
              "    }\n",
              "\n",
              "    .colab-df-convert {\n",
              "      background-color: #E8F0FE;\n",
              "      border: none;\n",
              "      border-radius: 50%;\n",
              "      cursor: pointer;\n",
              "      display: none;\n",
              "      fill: #1967D2;\n",
              "      height: 32px;\n",
              "      padding: 0 0 0 0;\n",
              "      width: 32px;\n",
              "    }\n",
              "\n",
              "    .colab-df-convert:hover {\n",
              "      background-color: #E2EBFA;\n",
              "      box-shadow: 0px 1px 2px rgba(60, 64, 67, 0.3), 0px 1px 3px 1px rgba(60, 64, 67, 0.15);\n",
              "      fill: #174EA6;\n",
              "    }\n",
              "\n",
              "    [theme=dark] .colab-df-convert {\n",
              "      background-color: #3B4455;\n",
              "      fill: #D2E3FC;\n",
              "    }\n",
              "\n",
              "    [theme=dark] .colab-df-convert:hover {\n",
              "      background-color: #434B5C;\n",
              "      box-shadow: 0px 1px 3px 1px rgba(0, 0, 0, 0.15);\n",
              "      filter: drop-shadow(0px 1px 2px rgba(0, 0, 0, 0.3));\n",
              "      fill: #FFFFFF;\n",
              "    }\n",
              "  </style>\n",
              "\n",
              "      <script>\n",
              "        const buttonEl =\n",
              "          document.querySelector('#df-df3baea1-3474-4667-bc77-77e7d96f09e7 button.colab-df-convert');\n",
              "        buttonEl.style.display =\n",
              "          google.colab.kernel.accessAllowed ? 'block' : 'none';\n",
              "\n",
              "        async function convertToInteractive(key) {\n",
              "          const element = document.querySelector('#df-df3baea1-3474-4667-bc77-77e7d96f09e7');\n",
              "          const dataTable =\n",
              "            await google.colab.kernel.invokeFunction('convertToInteractive',\n",
              "                                                     [key], {});\n",
              "          if (!dataTable) return;\n",
              "\n",
              "          const docLinkHtml = 'Like what you see? Visit the ' +\n",
              "            '<a target=\"_blank\" href=https://colab.research.google.com/notebooks/data_table.ipynb>data table notebook</a>'\n",
              "            + ' to learn more about interactive tables.';\n",
              "          element.innerHTML = '';\n",
              "          dataTable['output_type'] = 'display_data';\n",
              "          await google.colab.output.renderOutput(dataTable, element);\n",
              "          const docLink = document.createElement('div');\n",
              "          docLink.innerHTML = docLinkHtml;\n",
              "          element.appendChild(docLink);\n",
              "        }\n",
              "      </script>\n",
              "    </div>\n",
              "  </div>\n",
              "  "
            ]
          },
          "metadata": {},
          "execution_count": 2
        }
      ]
    },
    {
      "cell_type": "markdown",
      "source": [
        "## 📌 *File* handling: Google drive mount to bring a zip file\n",
        "\n",
        "**Note:** Unfold the following cells and do step by step to set up file handling\n",
        "\n",
        "- Audio files: get a zip file ready\n",
        "- Create a new folder and unzip audio files to the new folder"
      ],
      "metadata": {
        "id": "W-cUiH6fCQCX"
      }
    },
    {
      "cell_type": "code",
      "source": [
        "# File location: Google drive \n",
        "from google.colab import drive \n",
        "drive.mount('/content/drive')\n",
        "\n",
        "!ls \"/content/drive/MyDrive/asrdata\"\n",
        "!pwd"
      ],
      "metadata": {
        "colab": {
          "base_uri": "https://localhost:8080/"
        },
        "id": "k8_EqsF9CGs9",
        "outputId": "5aeebb8f-6c52-46e9-c487-653146e02af8"
      },
      "execution_count": 3,
      "outputs": [
        {
          "output_type": "stream",
          "name": "stdout",
          "text": [
            "Mounted at /content/drive\n",
            "SE.zip\tSK.zip\n",
            "/content\n"
          ]
        }
      ]
    },
    {
      "cell_type": "markdown",
      "source": [
        "✏️ Create a new folder named \"SE\" and unzip 'SE.zip' to the SE folder (created)"
      ],
      "metadata": {
        "id": "hhFbCDVBCbY3"
      }
    },
    {
      "cell_type": "code",
      "source": [
        "!mkdir SK\n",
        "\n",
        "!unzip \"/content/drive/MyDrive/asrdata/SK.zip\" -d \"/content/SK/\""
      ],
      "metadata": {
        "colab": {
          "base_uri": "https://localhost:8080/"
        },
        "id": "k3Am7rJMCTgj",
        "outputId": "e8a0c168-e29c-4535-a4bc-1ef8f08eb7ae"
      },
      "execution_count": 4,
      "outputs": [
        {
          "output_type": "stream",
          "name": "stdout",
          "text": [
            "Archive:  /content/drive/MyDrive/asrdata/SK.zip\n",
            "  inflating: /content/SK/SK01.wav    \n",
            "  inflating: /content/SK/SK02.wav    \n",
            "  inflating: /content/SK/SK03.wav    \n",
            "  inflating: /content/SK/SK04.wav    \n",
            "  inflating: /content/SK/SK05.wav    \n",
            "  inflating: /content/SK/SK06.wav    \n",
            "  inflating: /content/SK/SK07.wav    \n",
            "  inflating: /content/SK/SK08.wav    \n",
            "  inflating: /content/SK/SK09.wav    \n",
            "  inflating: /content/SK/SK10.wav    \n",
            "  inflating: /content/SK/SK11.wav    \n",
            "  inflating: /content/SK/SK12.wav    \n",
            "  inflating: /content/SK/SK13.wav    \n",
            "  inflating: /content/SK/SK14.wav    \n",
            "  inflating: /content/SK/SK15.wav    \n",
            "  inflating: /content/SK/SK16.wav    \n",
            "  inflating: /content/SK/SK17.wav    \n",
            "  inflating: /content/SK/SK18.wav    \n",
            "  inflating: /content/SK/SK19.wav    \n"
          ]
        }
      ]
    },
    {
      "cell_type": "markdown",
      "source": [
        "Unmount Google drive"
      ],
      "metadata": {
        "id": "lLhhJOxICmlf"
      }
    },
    {
      "cell_type": "code",
      "source": [
        "from google.colab import drive\n",
        "drive.flush_and_unmount()"
      ],
      "metadata": {
        "id": "qgROg029Cl5c"
      },
      "execution_count": 5,
      "outputs": []
    },
    {
      "cell_type": "markdown",
      "source": [
        "## ASR to install\n",
        "\n",
        "model (base.en)"
      ],
      "metadata": {
        "id": "UNXiFCi1cka0"
      }
    },
    {
      "cell_type": "code",
      "source": [
        "#@markdown Install SR tool\n",
        "%%capture\n",
        "!pip install git+https://github.com/openai/whisper.git \n",
        "\n",
        "import whisper\n",
        "# model = whisper.load_model('base.en') \n",
        "model = whisper.load_model('medium.en') "
      ],
      "metadata": {
        "id": "OCphLo2qbq8C",
        "outputId": "b734be69-fabf-42ac-9e09-4c46a1c48f9f",
        "colab": {
          "base_uri": "https://localhost:8080/"
        }
      },
      "execution_count": 20,
      "outputs": [
        {
          "output_type": "stream",
          "name": "stdout",
          "text": [
            "time: 55 s (started: 2023-01-06 11:32:05 +00:00)\n"
          ]
        }
      ]
    },
    {
      "cell_type": "markdown",
      "source": [
        "✏️ * File list under the \"SE\" or \"SK\" folder (19 audio files) into a designated folder"
      ],
      "metadata": {
        "id": "0f_g9JbgcJwz"
      }
    },
    {
      "cell_type": "code",
      "source": [
        "#@markdown Create a file list as a dataframe\n",
        "import os\n",
        "import pandas as pd\n",
        "\n",
        "dir_path = '/content/SK/'\n",
        "dir_files = os.listdir(dir_path)\n",
        "str1 = 'wav'\n",
        "flist = []\n",
        "\n",
        "for i in range(0, len(dir_files)):\n",
        "  str2 = dir_files[i]\n",
        "  if str1 in str2:\n",
        "    flist.append(str2)\n",
        "\n",
        "flist = sorted(flist)\n",
        "\n",
        "df = pd.DataFrame()\n",
        "n = len(flist)\n",
        "nt = n + 1\n",
        "fn = range(1, nt)\n",
        "df['ID'] = fn\n",
        "df['Filename'] = flist\n",
        "\n",
        "# print(df.to_string(index=False))\n",
        "df"
      ],
      "metadata": {
        "id": "DsYCrlvBcCDc",
        "cellView": "form"
      },
      "execution_count": null,
      "outputs": []
    },
    {
      "cell_type": "code",
      "source": [
        "#@markdown Runtime set up\n",
        "%%capture\n",
        "!pip install ipython-autotime\n",
        "%load_ext autotime"
      ],
      "metadata": {
        "colab": {
          "base_uri": "https://localhost:8080/"
        },
        "id": "TdPvwaFwfbWj",
        "outputId": "1798bc9b-90e7-4b8f-d543-1fc15a1532e2",
        "cellView": "form"
      },
      "execution_count": 23,
      "outputs": [
        {
          "output_type": "stream",
          "name": "stdout",
          "text": [
            "time: 3.68 s (started: 2023-01-06 11:33:56 +00:00)\n"
          ]
        }
      ]
    },
    {
      "cell_type": "code",
      "source": [
        "#@markdown ✏️ Change directory to the audio file folder\n",
        "import os\n",
        "os.chdir('/content/SK/')"
      ],
      "metadata": {
        "colab": {
          "base_uri": "https://localhost:8080/"
        },
        "id": "DSTrxOgApgRo",
        "outputId": "c71070fa-0f63-4436-ad78-cfa6c19b7509"
      },
      "execution_count": 24,
      "outputs": [
        {
          "output_type": "stream",
          "name": "stdout",
          "text": [
            "time: 1.95 ms (started: 2023-01-06 11:34:08 +00:00)\n"
          ]
        }
      ]
    },
    {
      "cell_type": "code",
      "source": [
        "#@markdown Testing ASR (single file): Type a number between 1~19\n",
        "rname = input(\"Type ID\")\n",
        "ind = int(rname) - 1\n",
        "myf = df['Filename'][ind]\n",
        "result = model.transcribe(myf, language=\"en\",fp16=False)\n",
        "print('Filename: %s'%myf)\n",
        "print('='*30)\n",
        "\n",
        "print(\"Speech-to-text (recognized): %s\"%result[\"text\"])  "
      ],
      "metadata": {
        "colab": {
          "base_uri": "https://localhost:8080/"
        },
        "id": "ijuu80mYffGW",
        "outputId": "35c1a931-1c6d-4e62-c2e7-f7a683be8d49"
      },
      "execution_count": 25,
      "outputs": [
        {
          "output_type": "stream",
          "name": "stdout",
          "text": [
            "Type ID1\n",
            "Filename: SK01.wav\n",
            "==============================\n",
            "Speech-to-text (recognized):  When the sunlight strikes raindrops in the air, the Gramer 1 fan FDA provides just what it gives.\n",
            "time: 8.05 s (started: 2023-01-06 11:34:10 +00:00)\n"
          ]
        }
      ]
    },
    {
      "cell_type": "code",
      "source": [
        "## R1 (Run this only once! Remove the hashtag to run)\n",
        "#runtimedata = []"
      ],
      "metadata": {
        "colab": {
          "base_uri": "https://localhost:8080/"
        },
        "id": "2fHWZ2TGgrxK",
        "outputId": "79c14efe-bded-4f36-db25-51dfeedaf17e"
      },
      "execution_count": 14,
      "outputs": [
        {
          "output_type": "stream",
          "name": "stdout",
          "text": [
            "time: 614 µs (started: 2023-01-06 11:25:37 +00:00)\n"
          ]
        }
      ]
    },
    {
      "cell_type": "markdown",
      "source": [
        "# 💙 Ready to run: Sentence recognition using ASR and getting the result file"
      ],
      "metadata": {
        "id": "dx5dxVVHxJSx"
      }
    },
    {
      "cell_type": "code",
      "source": [
        "#@markdown # A. Single file to process (same as the above): ID = sentence number\n",
        "import time\n",
        "import pandas as pd\n",
        "\n",
        "def measure_time(function):\n",
        "  start = time.time()\n",
        "  function()\n",
        "  end = time.time()\n",
        "  return end - start\n",
        "\n",
        "rname = input(\"Type ID: \")\n",
        "ind = int(rname) - 1\n",
        "myf = df['Filename'][ind]\n",
        "\n",
        "def code_to_measure():\n",
        "# your code here  \n",
        "  result = model.transcribe(myf, language=\"en\",fp16=False)\n",
        "  print('='*30)\n",
        "  print(\"Speech-to-text (recognized): %s\"%result['text']) \n",
        "\n",
        "runtime = round(measure_time(code_to_measure),3)\n",
        "print(f\"Runtime: {runtime} seconds\")\n",
        "\n",
        "print('Filename: %s'%myf)\n",
        "\n",
        "# df1 = pd.DataFrame({\"function\": [\"code_to_measure\"], \"runtime\": [runtime]})\n",
        "df1 = pd.DataFrame({\"file\": [myf], \"runtime\": [runtime]})\n",
        "print(\"=\"*30)\n",
        "data = {myf: round(runtime,3)}\n",
        "# runtimedata.append(data)\n",
        "# print(runtimedata)"
      ],
      "metadata": {
        "colab": {
          "base_uri": "https://localhost:8080/"
        },
        "id": "nb1ghMIzgtQe",
        "outputId": "cdc9d69f-ea33-43ec-abbd-f4db1d802970",
        "cellView": "form"
      },
      "execution_count": 26,
      "outputs": [
        {
          "output_type": "stream",
          "name": "stdout",
          "text": [
            "Type ID: 1\n",
            "==============================\n",
            "Speech-to-text (recognized):  When the sunlight strikes raindrops in the air, someone change the meeting to national At so-called\n",
            "Runtime: 5.809 seconds\n",
            "Filename: SK01.wav\n",
            "==============================\n",
            "time: 7.66 s (started: 2023-01-06 11:34:34 +00:00)\n"
          ]
        }
      ]
    },
    {
      "cell_type": "code",
      "source": [
        "#@markdown # B. Processing SE folder (19 files) and creating a result file (including Filename, Runtime, Recognized text) as **df1**\n",
        "\n",
        "import time\n",
        "import pandas as pd\n",
        "\n",
        "fname = []\n",
        "rt = []\n",
        "rectext = []\n",
        "df1 = pd.DataFrame()\n",
        "\n",
        "def measure_time(function):\n",
        "  start = time.time()\n",
        "  function()\n",
        "  end = time.time()\n",
        "  return end - start\n",
        "\n",
        "nfiles = len(df['Filename']) #19\n",
        "\n",
        "for i in range(0, nfiles):\n",
        "  rname = df['ID'][i]\n",
        "  ind = int(rname)\n",
        "  myf = df['Filename'][i]\n",
        "  fname.append(myf)\n",
        "\n",
        "  def code_to_measure():\n",
        "# your code here  \n",
        "    result = model.transcribe(myf, language=\"en\",fp16=False)\n",
        "    #print('='*30)\n",
        "    #print(\"Speech-to-text (recognized): %s\"%result['text']) \n",
        "    recresult = result['text']\n",
        "    rectext.append(recresult)\n",
        "\n",
        "  runtime = round(measure_time(code_to_measure),3)\n",
        "  rt.append(str(runtime))\n",
        "\n",
        "  #print(f\"Runtime: {runtime} seconds\")\n",
        "  #print('Filename: %s'%myf)\n",
        "\n",
        "df1['Filename'] = fname\n",
        "df1['Runtime'] = rt\n",
        "df1['Recognized'] = rectext\n",
        "\n",
        "df1.head()\n",
        "# df1 = pd.DataFrame({\"function\": [\"code_to_measure\"], \"runtime\": [runtime]})\n",
        "  # df1.iloc[i] = pd.DataFrame({\"file\": [myf], \"runtime\": [runtime]})\n",
        "  # print(\"=\"*30)\n",
        "# data = {myf: round(runtime,3)}\n",
        "# runtimedata.append(data)\n",
        "# print(runtimedata)"
      ],
      "metadata": {
        "cellView": "form",
        "colab": {
          "base_uri": "https://localhost:8080/",
          "height": 225
        },
        "id": "ogQoG32GqhD_",
        "outputId": "997bda54-bc3f-4465-d1e6-9287a6615129"
      },
      "execution_count": 27,
      "outputs": [
        {
          "output_type": "execute_result",
          "data": {
            "text/plain": [
              "   Filename Runtime                                         Recognized\n",
              "0  SK01.wav   5.625   When the sunlight strikes raindrops in the ai...\n",
              "1  SK02.wav   1.035   Ta rainbow EJ division of white light into ma...\n",
              "2  SK03.wav   5.222   T-z take the shape away long round arch, with...\n",
              "3  SK04.wav   1.112   Theor is, according to legend, a building put...\n",
              "4  SK05.wav    4.72                                making new personal"
            ],
            "text/html": [
              "\n",
              "  <div id=\"df-0cf4c2a6-e5b9-4c9d-9252-b3c8ae582ba0\">\n",
              "    <div class=\"colab-df-container\">\n",
              "      <div>\n",
              "<style scoped>\n",
              "    .dataframe tbody tr th:only-of-type {\n",
              "        vertical-align: middle;\n",
              "    }\n",
              "\n",
              "    .dataframe tbody tr th {\n",
              "        vertical-align: top;\n",
              "    }\n",
              "\n",
              "    .dataframe thead th {\n",
              "        text-align: right;\n",
              "    }\n",
              "</style>\n",
              "<table border=\"1\" class=\"dataframe\">\n",
              "  <thead>\n",
              "    <tr style=\"text-align: right;\">\n",
              "      <th></th>\n",
              "      <th>Filename</th>\n",
              "      <th>Runtime</th>\n",
              "      <th>Recognized</th>\n",
              "    </tr>\n",
              "  </thead>\n",
              "  <tbody>\n",
              "    <tr>\n",
              "      <th>0</th>\n",
              "      <td>SK01.wav</td>\n",
              "      <td>5.625</td>\n",
              "      <td>When the sunlight strikes raindrops in the ai...</td>\n",
              "    </tr>\n",
              "    <tr>\n",
              "      <th>1</th>\n",
              "      <td>SK02.wav</td>\n",
              "      <td>1.035</td>\n",
              "      <td>Ta rainbow EJ division of white light into ma...</td>\n",
              "    </tr>\n",
              "    <tr>\n",
              "      <th>2</th>\n",
              "      <td>SK03.wav</td>\n",
              "      <td>5.222</td>\n",
              "      <td>T-z take the shape away long round arch, with...</td>\n",
              "    </tr>\n",
              "    <tr>\n",
              "      <th>3</th>\n",
              "      <td>SK04.wav</td>\n",
              "      <td>1.112</td>\n",
              "      <td>Theor is, according to legend, a building put...</td>\n",
              "    </tr>\n",
              "    <tr>\n",
              "      <th>4</th>\n",
              "      <td>SK05.wav</td>\n",
              "      <td>4.72</td>\n",
              "      <td>making new personal</td>\n",
              "    </tr>\n",
              "  </tbody>\n",
              "</table>\n",
              "</div>\n",
              "      <button class=\"colab-df-convert\" onclick=\"convertToInteractive('df-0cf4c2a6-e5b9-4c9d-9252-b3c8ae582ba0')\"\n",
              "              title=\"Convert this dataframe to an interactive table.\"\n",
              "              style=\"display:none;\">\n",
              "        \n",
              "  <svg xmlns=\"http://www.w3.org/2000/svg\" height=\"24px\"viewBox=\"0 0 24 24\"\n",
              "       width=\"24px\">\n",
              "    <path d=\"M0 0h24v24H0V0z\" fill=\"none\"/>\n",
              "    <path d=\"M18.56 5.44l.94 2.06.94-2.06 2.06-.94-2.06-.94-.94-2.06-.94 2.06-2.06.94zm-11 1L8.5 8.5l.94-2.06 2.06-.94-2.06-.94L8.5 2.5l-.94 2.06-2.06.94zm10 10l.94 2.06.94-2.06 2.06-.94-2.06-.94-.94-2.06-.94 2.06-2.06.94z\"/><path d=\"M17.41 7.96l-1.37-1.37c-.4-.4-.92-.59-1.43-.59-.52 0-1.04.2-1.43.59L10.3 9.45l-7.72 7.72c-.78.78-.78 2.05 0 2.83L4 21.41c.39.39.9.59 1.41.59.51 0 1.02-.2 1.41-.59l7.78-7.78 2.81-2.81c.8-.78.8-2.07 0-2.86zM5.41 20L4 18.59l7.72-7.72 1.47 1.35L5.41 20z\"/>\n",
              "  </svg>\n",
              "      </button>\n",
              "      \n",
              "  <style>\n",
              "    .colab-df-container {\n",
              "      display:flex;\n",
              "      flex-wrap:wrap;\n",
              "      gap: 12px;\n",
              "    }\n",
              "\n",
              "    .colab-df-convert {\n",
              "      background-color: #E8F0FE;\n",
              "      border: none;\n",
              "      border-radius: 50%;\n",
              "      cursor: pointer;\n",
              "      display: none;\n",
              "      fill: #1967D2;\n",
              "      height: 32px;\n",
              "      padding: 0 0 0 0;\n",
              "      width: 32px;\n",
              "    }\n",
              "\n",
              "    .colab-df-convert:hover {\n",
              "      background-color: #E2EBFA;\n",
              "      box-shadow: 0px 1px 2px rgba(60, 64, 67, 0.3), 0px 1px 3px 1px rgba(60, 64, 67, 0.15);\n",
              "      fill: #174EA6;\n",
              "    }\n",
              "\n",
              "    [theme=dark] .colab-df-convert {\n",
              "      background-color: #3B4455;\n",
              "      fill: #D2E3FC;\n",
              "    }\n",
              "\n",
              "    [theme=dark] .colab-df-convert:hover {\n",
              "      background-color: #434B5C;\n",
              "      box-shadow: 0px 1px 3px 1px rgba(0, 0, 0, 0.15);\n",
              "      filter: drop-shadow(0px 1px 2px rgba(0, 0, 0, 0.3));\n",
              "      fill: #FFFFFF;\n",
              "    }\n",
              "  </style>\n",
              "\n",
              "      <script>\n",
              "        const buttonEl =\n",
              "          document.querySelector('#df-0cf4c2a6-e5b9-4c9d-9252-b3c8ae582ba0 button.colab-df-convert');\n",
              "        buttonEl.style.display =\n",
              "          google.colab.kernel.accessAllowed ? 'block' : 'none';\n",
              "\n",
              "        async function convertToInteractive(key) {\n",
              "          const element = document.querySelector('#df-0cf4c2a6-e5b9-4c9d-9252-b3c8ae582ba0');\n",
              "          const dataTable =\n",
              "            await google.colab.kernel.invokeFunction('convertToInteractive',\n",
              "                                                     [key], {});\n",
              "          if (!dataTable) return;\n",
              "\n",
              "          const docLinkHtml = 'Like what you see? Visit the ' +\n",
              "            '<a target=\"_blank\" href=https://colab.research.google.com/notebooks/data_table.ipynb>data table notebook</a>'\n",
              "            + ' to learn more about interactive tables.';\n",
              "          element.innerHTML = '';\n",
              "          dataTable['output_type'] = 'display_data';\n",
              "          await google.colab.output.renderOutput(dataTable, element);\n",
              "          const docLink = document.createElement('div');\n",
              "          docLink.innerHTML = docLinkHtml;\n",
              "          element.appendChild(docLink);\n",
              "        }\n",
              "      </script>\n",
              "    </div>\n",
              "  </div>\n",
              "  "
            ]
          },
          "metadata": {},
          "execution_count": 27
        },
        {
          "output_type": "stream",
          "name": "stdout",
          "text": [
            "time: 42 s (started: 2023-01-06 11:34:48 +00:00)\n"
          ]
        }
      ]
    },
    {
      "cell_type": "code",
      "source": [
        "# Result file to csv\n",
        "import os\n",
        "\n",
        "os.chdir('/content')\n",
        "!pwd\n",
        "df1.to_csv('SK_result_m.csv', index=False)"
      ],
      "metadata": {
        "id": "mYCsFWk_2_Yh",
        "outputId": "d08dad54-1440-46b6-d64a-1eebb4989222",
        "colab": {
          "base_uri": "https://localhost:8080/"
        }
      },
      "execution_count": 28,
      "outputs": [
        {
          "output_type": "stream",
          "name": "stdout",
          "text": [
            "/content\n",
            "time: 251 ms (started: 2023-01-06 11:35:52 +00:00)\n"
          ]
        }
      ]
    },
    {
      "cell_type": "markdown",
      "source": [
        "* The result file of SE data (asof 0106): [github link](https://raw.githubusercontent.com/MK316/workspace/main/ASR01/results/SE_result_0106.csv)"
      ],
      "metadata": {
        "id": "Mm3RFpt54TO-"
      }
    }
  ]
}