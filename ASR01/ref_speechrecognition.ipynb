{
  "nbformat": 4,
  "nbformat_minor": 0,
  "metadata": {
    "colab": {
      "provenance": [],
      "authorship_tag": "ABX9TyPSeCt35/25knb4Q5LKbyTU",
      "include_colab_link": true
    },
    "kernelspec": {
      "name": "python3",
      "display_name": "Python 3"
    },
    "language_info": {
      "name": "python"
    }
  },
  "cells": [
    {
      "cell_type": "markdown",
      "metadata": {
        "id": "view-in-github",
        "colab_type": "text"
      },
      "source": [
        "<a href=\"https://colab.research.google.com/github/MK316/workspace/blob/main/ASR01/ASR_speechrecognition.ipynb\" target=\"_parent\"><img src=\"https://colab.research.google.com/assets/colab-badge.svg\" alt=\"Open In Colab\"/></a>"
      ]
    },
    {
      "cell_type": "markdown",
      "source": [
        "# Generate a sound and run SR (Speech Recognition)\n",
        "\n",
        ": Create speech using gTTS and check its recognition using {Whisper}"
      ],
      "metadata": {
        "id": "MqXvtzILolAG"
      }
    },
    {
      "cell_type": "markdown",
      "source": [
        "## [1] Setting up {gTTS}"
      ],
      "metadata": {
        "id": "YtKt-LW_pJ1k"
      }
    },
    {
      "cell_type": "code",
      "execution_count": 56,
      "metadata": {
        "cellView": "form",
        "id": "9Jpi3rC5ojQM"
      },
      "outputs": [],
      "source": [
        "#@markdown {gTTS}, etts(text), ktts(text)\n",
        "%%capture\n",
        "!pip install gTTS\n",
        "from gtts import gTTS\n",
        "from IPython.display import Audio\n",
        "\n",
        "def etts(text):\n",
        "  text_to_say = text\n",
        "\n",
        "  gtts_object = gTTS(text = text_to_say,\n",
        "                     lang = \"en\",\n",
        "                    slow = False)\n",
        "  \n",
        "  gtts_object.save(\"E-audio.wav\")\n",
        "  return Audio(\"E-audio.wav\")\n",
        "\n",
        "\n",
        "def ktts(text):\n",
        "  text_to_say = text\n",
        "\n",
        "  gtts_object = gTTS(text = text_to_say,\n",
        "                     lang = \"ko\",\n",
        "                    slow = False)\n",
        "  \n",
        "  gtts_object.save(\"K-audio.wav\")\n",
        "  return Audio(\"K-audio.wav\")"
      ]
    },
    {
      "cell_type": "markdown",
      "source": [
        "##Note: we'll create a folder named \"audio\" and save generated files in it."
      ],
      "metadata": {
        "id": "E-wBR2ZGAfeV"
      }
    },
    {
      "cell_type": "markdown",
      "source": [
        "## [2] Sound generation using {gTTS}"
      ],
      "metadata": {
        "id": "Mn9Jr_EtptyA"
      }
    },
    {
      "cell_type": "code",
      "source": [
        "from IPython.display import Audio\n",
        "\n",
        "language = \"ko\" #@param \"en\" language = [\"en\",\"ko\"]\n",
        "mytext = input(\"Type text.\")\n",
        "fname = input(\"Type file name without .wav: e.g., right (for 'right.wav'\")\n",
        "\n",
        "if language == \"en\":\n",
        "  etts(mytext)\n",
        "  mpath = '/content/' + language + \"_\" + fname + '.wav'\n",
        "  old_name = r\"/content/E-audio.wav\"\n",
        "  new_name = mpath\n",
        "  os.rename(old_name, new_name)\n",
        "\n",
        "elif language == \"ko\":\n",
        "  ktts(mytext)\n",
        "  mpath = '/content/' + language + \"_\" + fname + '.wav'\n",
        "  old_name = r\"/content/K-audio.wav\"\n",
        "  new_name = mpath\n",
        "  os.rename(old_name, new_name)\n",
        "\n",
        "print(\"Text-to-Speech: %s\"%mytext) \n",
        "print(\"Audio filename: %s\"%mpath)\n",
        "\n",
        "Audio(mpath)\n"
      ],
      "metadata": {
        "colab": {
          "base_uri": "https://localhost:8080/",
          "height": 164
        },
        "cellView": "form",
        "id": "OcZWkWb9psOH",
        "outputId": "d343a6db-9a8b-496d-8125-5b50dbda2a7a"
      },
      "execution_count": 81,
      "outputs": [
        {
          "output_type": "stream",
          "name": "stdout",
          "text": [
            "Type text.heart\n",
            "Type file name without .wav: e.g., right (for 'right.wav'heart\n",
            "Text-to-Speech: heart\n",
            "Audio filename: /content/ko_heart.wav\n"
          ]
        },
        {
          "output_type": "execute_result",
          "data": {
            "text/plain": [
              "<IPython.lib.display.Audio object>"
            ],
            "text/html": [
              "\n",
              "                <audio  controls=\"controls\" >\n",
              "                    <source src=\"data:audio/x-wav;base64,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\" type=\"audio/x-wav\" />\n",
              "                    Your browser does not support the audio element.\n",
              "                </audio>\n",
              "              "
            ]
          },
          "metadata": {},
          "execution_count": 81
        },
        {
          "output_type": "stream",
          "name": "stdout",
          "text": [
            "time: 8.85 s (started: 2022-12-29 18:01:32 +00:00)\n"
          ]
        }
      ]
    },
    {
      "cell_type": "markdown",
      "source": [
        "##[3] Speech Recognition"
      ],
      "metadata": {
        "id": "28nFxnbasZDU"
      }
    },
    {
      "cell_type": "code",
      "source": [
        "#@markdown Install SR tool\n",
        "%%capture\n",
        "!pip install git+https://github.com/openai/whisper.git \n",
        "\n",
        "import whisper\n",
        "model = whisper.load_model('base.en') "
      ],
      "metadata": {
        "id": "l_LhIUcyqghd",
        "colab": {
          "base_uri": "https://localhost:8080/"
        },
        "cellView": "form",
        "outputId": "4cbd3566-4784-4337-8624-88cfd59fa5a3"
      },
      "execution_count": 82,
      "outputs": [
        {
          "output_type": "stream",
          "name": "stdout",
          "text": [
            "time: 6.65 s (started: 2022-12-29 18:01:59 +00:00)\n"
          ]
        }
      ]
    },
    {
      "cell_type": "markdown",
      "source": [
        "Note: Run this to add audio files from your computer\n",
        "\n",
        "- Remove '#' to run the code."
      ],
      "metadata": {
        "id": "B7m-eevQzGnF"
      }
    },
    {
      "cell_type": "code",
      "source": [
        "# from google.colab import files\n",
        "# uploaded = files.upload()"
      ],
      "metadata": {
        "id": "8IKa8eRPxNY0"
      },
      "execution_count": null,
      "outputs": []
    },
    {
      "cell_type": "markdown",
      "source": [
        "List all audio files in current folder (/content/ (left panel))"
      ],
      "metadata": {
        "id": "Jcwf42KYtpZZ"
      }
    },
    {
      "cell_type": "code",
      "source": [
        "#@markdown Refer to the following list files:\n",
        "import os\n",
        "import pandas as pd\n",
        "\n",
        "dir_path = '/content/'\n",
        "dir_files = os.listdir(dir_path)\n",
        "str1 = 'wav'\n",
        "flist = []\n",
        "\n",
        "for i in range(0, len(dir_files)):\n",
        "  str2 = dir_files[i]\n",
        "  if str1 in str2:\n",
        "    flist.append(str2)\n",
        "flist\n",
        "\n",
        "df = pd.DataFrame()\n",
        "n = len(flist)\n",
        "nt = n + 1\n",
        "fn = range(1, nt)\n",
        "df['ID'] = fn\n",
        "df['Filename'] = flist\n",
        "\n",
        "df"
      ],
      "metadata": {
        "colab": {
          "base_uri": "https://localhost:8080/",
          "height": 318
        },
        "cellView": "form",
        "id": "cTaHd3jOtq2e",
        "outputId": "efac83c0-cddd-43cb-f0ed-2d841a596ca3"
      },
      "execution_count": 101,
      "outputs": [
        {
          "output_type": "execute_result",
          "data": {
            "text/plain": [
              "   ID        Filename\n",
              "0   1      ko_why.wav\n",
              "1   2     E-audio.wav\n",
              "2   3    ko_today.wav\n",
              "3   4     en_test.wav\n",
              "4   5     ko_test.wav\n",
              "5   6  ko_newfile.wav\n",
              "6   7  thelainbow.wav\n",
              "7   8    ko_heart.wav"
            ],
            "text/html": [
              "\n",
              "  <div id=\"df-26de41af-3fb5-432c-86ee-96f4176f8757\">\n",
              "    <div class=\"colab-df-container\">\n",
              "      <div>\n",
              "<style scoped>\n",
              "    .dataframe tbody tr th:only-of-type {\n",
              "        vertical-align: middle;\n",
              "    }\n",
              "\n",
              "    .dataframe tbody tr th {\n",
              "        vertical-align: top;\n",
              "    }\n",
              "\n",
              "    .dataframe thead th {\n",
              "        text-align: right;\n",
              "    }\n",
              "</style>\n",
              "<table border=\"1\" class=\"dataframe\">\n",
              "  <thead>\n",
              "    <tr style=\"text-align: right;\">\n",
              "      <th></th>\n",
              "      <th>ID</th>\n",
              "      <th>Filename</th>\n",
              "    </tr>\n",
              "  </thead>\n",
              "  <tbody>\n",
              "    <tr>\n",
              "      <th>0</th>\n",
              "      <td>1</td>\n",
              "      <td>ko_why.wav</td>\n",
              "    </tr>\n",
              "    <tr>\n",
              "      <th>1</th>\n",
              "      <td>2</td>\n",
              "      <td>E-audio.wav</td>\n",
              "    </tr>\n",
              "    <tr>\n",
              "      <th>2</th>\n",
              "      <td>3</td>\n",
              "      <td>ko_today.wav</td>\n",
              "    </tr>\n",
              "    <tr>\n",
              "      <th>3</th>\n",
              "      <td>4</td>\n",
              "      <td>en_test.wav</td>\n",
              "    </tr>\n",
              "    <tr>\n",
              "      <th>4</th>\n",
              "      <td>5</td>\n",
              "      <td>ko_test.wav</td>\n",
              "    </tr>\n",
              "    <tr>\n",
              "      <th>5</th>\n",
              "      <td>6</td>\n",
              "      <td>ko_newfile.wav</td>\n",
              "    </tr>\n",
              "    <tr>\n",
              "      <th>6</th>\n",
              "      <td>7</td>\n",
              "      <td>thelainbow.wav</td>\n",
              "    </tr>\n",
              "    <tr>\n",
              "      <th>7</th>\n",
              "      <td>8</td>\n",
              "      <td>ko_heart.wav</td>\n",
              "    </tr>\n",
              "  </tbody>\n",
              "</table>\n",
              "</div>\n",
              "      <button class=\"colab-df-convert\" onclick=\"convertToInteractive('df-26de41af-3fb5-432c-86ee-96f4176f8757')\"\n",
              "              title=\"Convert this dataframe to an interactive table.\"\n",
              "              style=\"display:none;\">\n",
              "        \n",
              "  <svg xmlns=\"http://www.w3.org/2000/svg\" height=\"24px\"viewBox=\"0 0 24 24\"\n",
              "       width=\"24px\">\n",
              "    <path d=\"M0 0h24v24H0V0z\" fill=\"none\"/>\n",
              "    <path d=\"M18.56 5.44l.94 2.06.94-2.06 2.06-.94-2.06-.94-.94-2.06-.94 2.06-2.06.94zm-11 1L8.5 8.5l.94-2.06 2.06-.94-2.06-.94L8.5 2.5l-.94 2.06-2.06.94zm10 10l.94 2.06.94-2.06 2.06-.94-2.06-.94-.94-2.06-.94 2.06-2.06.94z\"/><path d=\"M17.41 7.96l-1.37-1.37c-.4-.4-.92-.59-1.43-.59-.52 0-1.04.2-1.43.59L10.3 9.45l-7.72 7.72c-.78.78-.78 2.05 0 2.83L4 21.41c.39.39.9.59 1.41.59.51 0 1.02-.2 1.41-.59l7.78-7.78 2.81-2.81c.8-.78.8-2.07 0-2.86zM5.41 20L4 18.59l7.72-7.72 1.47 1.35L5.41 20z\"/>\n",
              "  </svg>\n",
              "      </button>\n",
              "      \n",
              "  <style>\n",
              "    .colab-df-container {\n",
              "      display:flex;\n",
              "      flex-wrap:wrap;\n",
              "      gap: 12px;\n",
              "    }\n",
              "\n",
              "    .colab-df-convert {\n",
              "      background-color: #E8F0FE;\n",
              "      border: none;\n",
              "      border-radius: 50%;\n",
              "      cursor: pointer;\n",
              "      display: none;\n",
              "      fill: #1967D2;\n",
              "      height: 32px;\n",
              "      padding: 0 0 0 0;\n",
              "      width: 32px;\n",
              "    }\n",
              "\n",
              "    .colab-df-convert:hover {\n",
              "      background-color: #E2EBFA;\n",
              "      box-shadow: 0px 1px 2px rgba(60, 64, 67, 0.3), 0px 1px 3px 1px rgba(60, 64, 67, 0.15);\n",
              "      fill: #174EA6;\n",
              "    }\n",
              "\n",
              "    [theme=dark] .colab-df-convert {\n",
              "      background-color: #3B4455;\n",
              "      fill: #D2E3FC;\n",
              "    }\n",
              "\n",
              "    [theme=dark] .colab-df-convert:hover {\n",
              "      background-color: #434B5C;\n",
              "      box-shadow: 0px 1px 3px 1px rgba(0, 0, 0, 0.15);\n",
              "      filter: drop-shadow(0px 1px 2px rgba(0, 0, 0, 0.3));\n",
              "      fill: #FFFFFF;\n",
              "    }\n",
              "  </style>\n",
              "\n",
              "      <script>\n",
              "        const buttonEl =\n",
              "          document.querySelector('#df-26de41af-3fb5-432c-86ee-96f4176f8757 button.colab-df-convert');\n",
              "        buttonEl.style.display =\n",
              "          google.colab.kernel.accessAllowed ? 'block' : 'none';\n",
              "\n",
              "        async function convertToInteractive(key) {\n",
              "          const element = document.querySelector('#df-26de41af-3fb5-432c-86ee-96f4176f8757');\n",
              "          const dataTable =\n",
              "            await google.colab.kernel.invokeFunction('convertToInteractive',\n",
              "                                                     [key], {});\n",
              "          if (!dataTable) return;\n",
              "\n",
              "          const docLinkHtml = 'Like what you see? Visit the ' +\n",
              "            '<a target=\"_blank\" href=https://colab.research.google.com/notebooks/data_table.ipynb>data table notebook</a>'\n",
              "            + ' to learn more about interactive tables.';\n",
              "          element.innerHTML = '';\n",
              "          dataTable['output_type'] = 'display_data';\n",
              "          await google.colab.output.renderOutput(dataTable, element);\n",
              "          const docLink = document.createElement('div');\n",
              "          docLink.innerHTML = docLinkHtml;\n",
              "          element.appendChild(docLink);\n",
              "        }\n",
              "      </script>\n",
              "    </div>\n",
              "  </div>\n",
              "  "
            ]
          },
          "metadata": {},
          "execution_count": 101
        },
        {
          "output_type": "stream",
          "name": "stdout",
          "text": [
            "time: 35.4 ms (started: 2022-12-29 18:29:31 +00:00)\n"
          ]
        }
      ]
    },
    {
      "cell_type": "markdown",
      "source": [
        "Run Speech Recognitioin: type ID number (e.g., 1, 2, or 3)"
      ],
      "metadata": {
        "id": "a-DadOSV1ZXV"
      }
    },
    {
      "cell_type": "code",
      "source": [
        "#@markdown Runtime set up\n",
        "%%capture\n",
        "!pip install ipython-autotime\n",
        "%load_ext autotime"
      ],
      "metadata": {
        "colab": {
          "base_uri": "https://localhost:8080/"
        },
        "id": "QmATWGYX-1xC",
        "outputId": "e2307af0-2016-452c-f530-5c2a220fa6d9"
      },
      "execution_count": 84,
      "outputs": [
        {
          "output_type": "stream",
          "name": "stdout",
          "text": [
            "time: 5.66 s (started: 2022-12-29 18:02:17 +00:00)\n"
          ]
        }
      ]
    },
    {
      "cell_type": "code",
      "source": [
        "#@markdown Recognition result: Type ID number from the above table (e.g., 1, 2, 3, ...)\n",
        "\n",
        "rname = input(\"Type ID\")\n",
        "ind = int(rname) - 1\n",
        "myf = df['Filename'][ind]\n",
        "result = model.transcribe(myf, language=\"en\",fp16=False)\n",
        "print('Filename: %s'%myf)\n",
        "print('='*30)\n",
        "\n",
        "print(\"Speech-to-text (recognized): %s\"%result[\"text\"])  "
      ],
      "metadata": {
        "id": "r1iwf2ESq3AR",
        "outputId": "661824fd-29fc-4944-ff18-057f1c8b939f",
        "colab": {
          "base_uri": "https://localhost:8080/"
        }
      },
      "execution_count": 93,
      "outputs": [
        {
          "output_type": "stream",
          "name": "stdout",
          "text": [
            "Type ID1\n",
            "Filename: ko_why.wav\n",
            "==============================\n",
            "Speech-to-text (recognized):  Why?\n",
            "time: 4.86 s (started: 2022-12-29 18:19:59 +00:00)\n"
          ]
        }
      ]
    },
    {
      "cell_type": "code",
      "source": [
        "import time\n",
        "import pandas as pd\n",
        "\n",
        "def measure_time(function):\n",
        "  start = time.time()\n",
        "  function()\n",
        "  end = time.time()\n",
        "  return end - start\n",
        "\n",
        "# your code here\n",
        "  print(\"Hello, world!\")\n",
        "\n",
        "runtime = measure_time(code_to_measure)\n",
        "print(f\"Runtime: {runtime} seconds\")"
      ],
      "metadata": {
        "colab": {
          "base_uri": "https://localhost:8080/"
        },
        "id": "XEbML0jcFXNB",
        "outputId": "b8324306-2d0d-42ee-931a-782c91424aea"
      },
      "execution_count": 94,
      "outputs": [
        {
          "output_type": "stream",
          "name": "stdout",
          "text": [
            "Type ID1\n",
            "Filename: ko_why.wav\n",
            "==============================\n",
            "Hello, world!\n",
            "Runtime: 11.530438661575317 seconds\n",
            "time: 11.5 s (started: 2022-12-29 18:21:20 +00:00)\n"
          ]
        }
      ]
    },
    {
      "cell_type": "markdown",
      "source": [
        "Description: we'll create a list that will store runtime for each file. \n",
        "\n",
        "Run R1 (only once)\n",
        "Run R2 (repeat) - this data will be stored in the runtimedata(list)"
      ],
      "metadata": {
        "id": "OHTPb7avMbkq"
      }
    },
    {
      "cell_type": "code",
      "source": [
        "# R1\n",
        "runtimedata = []"
      ],
      "metadata": {
        "colab": {
          "base_uri": "https://localhost:8080/"
        },
        "id": "F_0juMrjMI5m",
        "outputId": "51e518d2-5150-432f-cb36-9cb64c3393c5"
      },
      "execution_count": 127,
      "outputs": [
        {
          "output_type": "stream",
          "name": "stdout",
          "text": [
            "time: 552 µs (started: 2022-12-29 18:49:44 +00:00)\n"
          ]
        }
      ]
    },
    {
      "cell_type": "code",
      "source": [
        "#@markdown # R2\n",
        "import time\n",
        "import pandas as pd\n",
        "\n",
        "def measure_time(function):\n",
        "  start = time.time()\n",
        "  function()\n",
        "  end = time.time()\n",
        "  return end - start\n",
        "\n",
        "rname = input(\"Type ID: \")\n",
        "ind = int(rname) - 1\n",
        "myf = df['Filename'][ind]\n",
        "\n",
        "def code_to_measure():\n",
        "# your code here  \n",
        "  result = model.transcribe(myf, language=\"en\",fp16=False)\n",
        "\n",
        "runtime = measure_time(code_to_measure)\n",
        "print(f\"Runtime: {runtime} seconds\")\n",
        "\n",
        "print('Filename: %s'%myf)\n",
        "print('='*30)\n",
        "print(\"Speech-to-text (recognized): %s\"%result[\"text\"])  \n",
        "\n",
        "# df1 = pd.DataFrame({\"function\": [\"code_to_measure\"], \"runtime\": [runtime]})\n",
        "print(\"=\"*30)\n",
        "data = {myf: round(runtime,3)}\n",
        "runtimedata.append(data)\n",
        "print(runtimedata)"
      ],
      "metadata": {
        "colab": {
          "base_uri": "https://localhost:8080/"
        },
        "id": "J9p3rLzrGqie",
        "outputId": "f891fcf1-5f9f-4cf8-d266-8c630f32fbac"
      },
      "execution_count": 130,
      "outputs": [
        {
          "output_type": "stream",
          "name": "stdout",
          "text": [
            "Type ID: 3\n",
            "Runtime: 4.832329273223877 seconds\n",
            "Filename: ko_today.wav\n",
            "==============================\n",
            "Speech-to-text (recognized):  Why?\n",
            "==============================\n",
            "[{'ko_why.wav': 2.462}, {'E-audio.wav': 2.825}, {'ko_today.wav': 4.832}]\n",
            "time: 6.99 s (started: 2022-12-29 18:51:25 +00:00)\n"
          ]
        }
      ]
    },
    {
      "cell_type": "markdown",
      "source": [
        "When done, run R3 below to create a dataframe with runtimedata list"
      ],
      "metadata": {
        "id": "dLCt9r3tNL3F"
      }
    },
    {
      "cell_type": "code",
      "source": [
        "len(runtimedata)"
      ],
      "metadata": {
        "colab": {
          "base_uri": "https://localhost:8080/"
        },
        "id": "FnPDpCEER_qE",
        "outputId": "09ccc775-1226-479b-9a1d-f70b46eb29bf"
      },
      "execution_count": 160,
      "outputs": [
        {
          "output_type": "execute_result",
          "data": {
            "text/plain": [
              "3"
            ]
          },
          "metadata": {},
          "execution_count": 160
        },
        {
          "output_type": "stream",
          "name": "stdout",
          "text": [
            "time: 9.35 ms (started: 2022-12-29 19:09:27 +00:00)\n"
          ]
        }
      ]
    },
    {
      "cell_type": "markdown",
      "source": [
        "Todo from here."
      ],
      "metadata": {
        "id": "BuXl4x32Szmm"
      }
    },
    {
      "cell_type": "code",
      "source": [
        "rundf = pd.DataFrame()\n",
        "keydata = []\n",
        "valuedata = []\n",
        "n = len(runtimedata) + 1\n",
        "\n",
        "for i in range(0, n):\n",
        "  current = runtimedata[i]\n",
        "  for key, value in current.items():\n",
        "      a1 = key\n",
        "      a2 = value\n",
        "      keydata.append(a1)\n",
        "      valuedata.append(a2)\n",
        "\n",
        "rundf['FILENAME'] = keydata\n",
        "rundf['RUNTIME'] = valuedata\n",
        "\n",
        "rundf"
      ],
      "metadata": {
        "colab": {
          "base_uri": "https://localhost:8080/",
          "height": 292
        },
        "id": "5fXHH_X2NSLV",
        "outputId": "9b35568f-5377-414f-af3a-73bedcc0071b"
      },
      "execution_count": 159,
      "outputs": [
        {
          "output_type": "error",
          "ename": "IndexError",
          "evalue": "ignored",
          "traceback": [
            "\u001b[0;31m---------------------------------------------------------------------------\u001b[0m",
            "\u001b[0;31mIndexError\u001b[0m                                Traceback (most recent call last)",
            "\u001b[0;32m<ipython-input-159-5d7016303280>\u001b[0m in \u001b[0;36m<module>\u001b[0;34m\u001b[0m\n\u001b[1;32m      4\u001b[0m \u001b[0mn\u001b[0m \u001b[0;34m=\u001b[0m \u001b[0mlen\u001b[0m\u001b[0;34m(\u001b[0m\u001b[0mruntimedata\u001b[0m\u001b[0;34m)\u001b[0m \u001b[0;34m+\u001b[0m \u001b[0;36m1\u001b[0m\u001b[0;34m\u001b[0m\u001b[0;34m\u001b[0m\u001b[0m\n\u001b[1;32m      5\u001b[0m \u001b[0;32mfor\u001b[0m \u001b[0mi\u001b[0m \u001b[0;32min\u001b[0m \u001b[0mrange\u001b[0m\u001b[0;34m(\u001b[0m\u001b[0;36m0\u001b[0m\u001b[0;34m,\u001b[0m \u001b[0mn\u001b[0m\u001b[0;34m)\u001b[0m\u001b[0;34m:\u001b[0m\u001b[0;34m\u001b[0m\u001b[0;34m\u001b[0m\u001b[0m\n\u001b[0;32m----> 6\u001b[0;31m   \u001b[0mcurrent\u001b[0m \u001b[0;34m=\u001b[0m \u001b[0mruntimedata\u001b[0m\u001b[0;34m[\u001b[0m\u001b[0mi\u001b[0m\u001b[0;34m]\u001b[0m\u001b[0;34m\u001b[0m\u001b[0;34m\u001b[0m\u001b[0m\n\u001b[0m\u001b[1;32m      7\u001b[0m   \u001b[0;32mfor\u001b[0m \u001b[0mkey\u001b[0m\u001b[0;34m,\u001b[0m \u001b[0mvalue\u001b[0m \u001b[0;32min\u001b[0m \u001b[0mcurrent\u001b[0m\u001b[0;34m.\u001b[0m\u001b[0mitems\u001b[0m\u001b[0;34m(\u001b[0m\u001b[0;34m)\u001b[0m\u001b[0;34m:\u001b[0m\u001b[0;34m\u001b[0m\u001b[0;34m\u001b[0m\u001b[0m\n\u001b[1;32m      8\u001b[0m       \u001b[0ma1\u001b[0m \u001b[0;34m=\u001b[0m \u001b[0mkey\u001b[0m\u001b[0;34m\u001b[0m\u001b[0;34m\u001b[0m\u001b[0m\n",
            "\u001b[0;31mIndexError\u001b[0m: list index out of range"
          ]
        },
        {
          "output_type": "stream",
          "name": "stdout",
          "text": [
            "time: 35.7 ms (started: 2022-12-29 19:09:05 +00:00)\n"
          ]
        }
      ]
    }
  ]
}
