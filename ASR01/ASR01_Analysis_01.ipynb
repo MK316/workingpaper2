{
  "nbformat": 4,
  "nbformat_minor": 0,
  "metadata": {
    "colab": {
      "provenance": [],
      "authorship_tag": "ABX9TyPTOKUST8jU1g1DEt41ss8+",
      "include_colab_link": true
    },
    "kernelspec": {
      "name": "python3",
      "display_name": "Python 3"
    },
    "language_info": {
      "name": "python"
    }
  },
  "cells": [
    {
      "cell_type": "markdown",
      "metadata": {
        "id": "view-in-github",
        "colab_type": "text"
      },
      "source": [
        "<a href=\"https://colab.research.google.com/github/MK316/workspace/blob/main/ASR01/ASR01_Analysis_01.ipynb\" target=\"_parent\"><img src=\"https://colab.research.google.com/assets/colab-badge.svg\" alt=\"Open In Colab\"/></a>"
      ]
    },
    {
      "cell_type": "markdown",
      "source": [
        "# ASR analysis: Part 1\n",
        "\n",
        "- Getting ASR results"
      ],
      "metadata": {
        "id": "IT5qmjjUcfYD"
      }
    },
    {
      "cell_type": "markdown",
      "source": [
        "18 sentences of the rainbow passage ([csv file from github](https://raw.githubusercontent.com/MK316/workspace/main/ASR01/data/18RainbowSentences.csv))"
      ],
      "metadata": {
        "id": "XoafH7g4cnNq"
      }
    },
    {
      "cell_type": "code",
      "execution_count": 4,
      "metadata": {
        "colab": {
          "base_uri": "https://localhost:8080/",
          "height": 206
        },
        "cellView": "form",
        "id": "F1kLu8yWcXMD",
        "outputId": "90a5d488-a0a0-4b31-e8b3-a87452a788b2"
      },
      "outputs": [
        {
          "output_type": "execute_result",
          "data": {
            "text/plain": [
              "   SN                                           Sentence\n",
              "0  S1  When the sunlight strikes raindrops in the air...\n",
              "1  S2  The rainbow is a division of white light into ...\n",
              "2  S3  These take the shape of a long round arch, wit...\n",
              "3  S4  There is, according to legend, a boiling pot o...\n",
              "4  S5             People look, but no one ever finds it."
            ],
            "text/html": [
              "\n",
              "  <div id=\"df-5f6c4d2b-039e-4d41-9d4c-009d137a15f6\">\n",
              "    <div class=\"colab-df-container\">\n",
              "      <div>\n",
              "<style scoped>\n",
              "    .dataframe tbody tr th:only-of-type {\n",
              "        vertical-align: middle;\n",
              "    }\n",
              "\n",
              "    .dataframe tbody tr th {\n",
              "        vertical-align: top;\n",
              "    }\n",
              "\n",
              "    .dataframe thead th {\n",
              "        text-align: right;\n",
              "    }\n",
              "</style>\n",
              "<table border=\"1\" class=\"dataframe\">\n",
              "  <thead>\n",
              "    <tr style=\"text-align: right;\">\n",
              "      <th></th>\n",
              "      <th>SN</th>\n",
              "      <th>Sentence</th>\n",
              "    </tr>\n",
              "  </thead>\n",
              "  <tbody>\n",
              "    <tr>\n",
              "      <th>0</th>\n",
              "      <td>S1</td>\n",
              "      <td>When the sunlight strikes raindrops in the air...</td>\n",
              "    </tr>\n",
              "    <tr>\n",
              "      <th>1</th>\n",
              "      <td>S2</td>\n",
              "      <td>The rainbow is a division of white light into ...</td>\n",
              "    </tr>\n",
              "    <tr>\n",
              "      <th>2</th>\n",
              "      <td>S3</td>\n",
              "      <td>These take the shape of a long round arch, wit...</td>\n",
              "    </tr>\n",
              "    <tr>\n",
              "      <th>3</th>\n",
              "      <td>S4</td>\n",
              "      <td>There is, according to legend, a boiling pot o...</td>\n",
              "    </tr>\n",
              "    <tr>\n",
              "      <th>4</th>\n",
              "      <td>S5</td>\n",
              "      <td>People look, but no one ever finds it.</td>\n",
              "    </tr>\n",
              "  </tbody>\n",
              "</table>\n",
              "</div>\n",
              "      <button class=\"colab-df-convert\" onclick=\"convertToInteractive('df-5f6c4d2b-039e-4d41-9d4c-009d137a15f6')\"\n",
              "              title=\"Convert this dataframe to an interactive table.\"\n",
              "              style=\"display:none;\">\n",
              "        \n",
              "  <svg xmlns=\"http://www.w3.org/2000/svg\" height=\"24px\"viewBox=\"0 0 24 24\"\n",
              "       width=\"24px\">\n",
              "    <path d=\"M0 0h24v24H0V0z\" fill=\"none\"/>\n",
              "    <path d=\"M18.56 5.44l.94 2.06.94-2.06 2.06-.94-2.06-.94-.94-2.06-.94 2.06-2.06.94zm-11 1L8.5 8.5l.94-2.06 2.06-.94-2.06-.94L8.5 2.5l-.94 2.06-2.06.94zm10 10l.94 2.06.94-2.06 2.06-.94-2.06-.94-.94-2.06-.94 2.06-2.06.94z\"/><path d=\"M17.41 7.96l-1.37-1.37c-.4-.4-.92-.59-1.43-.59-.52 0-1.04.2-1.43.59L10.3 9.45l-7.72 7.72c-.78.78-.78 2.05 0 2.83L4 21.41c.39.39.9.59 1.41.59.51 0 1.02-.2 1.41-.59l7.78-7.78 2.81-2.81c.8-.78.8-2.07 0-2.86zM5.41 20L4 18.59l7.72-7.72 1.47 1.35L5.41 20z\"/>\n",
              "  </svg>\n",
              "      </button>\n",
              "      \n",
              "  <style>\n",
              "    .colab-df-container {\n",
              "      display:flex;\n",
              "      flex-wrap:wrap;\n",
              "      gap: 12px;\n",
              "    }\n",
              "\n",
              "    .colab-df-convert {\n",
              "      background-color: #E8F0FE;\n",
              "      border: none;\n",
              "      border-radius: 50%;\n",
              "      cursor: pointer;\n",
              "      display: none;\n",
              "      fill: #1967D2;\n",
              "      height: 32px;\n",
              "      padding: 0 0 0 0;\n",
              "      width: 32px;\n",
              "    }\n",
              "\n",
              "    .colab-df-convert:hover {\n",
              "      background-color: #E2EBFA;\n",
              "      box-shadow: 0px 1px 2px rgba(60, 64, 67, 0.3), 0px 1px 3px 1px rgba(60, 64, 67, 0.15);\n",
              "      fill: #174EA6;\n",
              "    }\n",
              "\n",
              "    [theme=dark] .colab-df-convert {\n",
              "      background-color: #3B4455;\n",
              "      fill: #D2E3FC;\n",
              "    }\n",
              "\n",
              "    [theme=dark] .colab-df-convert:hover {\n",
              "      background-color: #434B5C;\n",
              "      box-shadow: 0px 1px 3px 1px rgba(0, 0, 0, 0.15);\n",
              "      filter: drop-shadow(0px 1px 2px rgba(0, 0, 0, 0.3));\n",
              "      fill: #FFFFFF;\n",
              "    }\n",
              "  </style>\n",
              "\n",
              "      <script>\n",
              "        const buttonEl =\n",
              "          document.querySelector('#df-5f6c4d2b-039e-4d41-9d4c-009d137a15f6 button.colab-df-convert');\n",
              "        buttonEl.style.display =\n",
              "          google.colab.kernel.accessAllowed ? 'block' : 'none';\n",
              "\n",
              "        async function convertToInteractive(key) {\n",
              "          const element = document.querySelector('#df-5f6c4d2b-039e-4d41-9d4c-009d137a15f6');\n",
              "          const dataTable =\n",
              "            await google.colab.kernel.invokeFunction('convertToInteractive',\n",
              "                                                     [key], {});\n",
              "          if (!dataTable) return;\n",
              "\n",
              "          const docLinkHtml = 'Like what you see? Visit the ' +\n",
              "            '<a target=\"_blank\" href=https://colab.research.google.com/notebooks/data_table.ipynb>data table notebook</a>'\n",
              "            + ' to learn more about interactive tables.';\n",
              "          element.innerHTML = '';\n",
              "          dataTable['output_type'] = 'display_data';\n",
              "          await google.colab.output.renderOutput(dataTable, element);\n",
              "          const docLink = document.createElement('div');\n",
              "          docLink.innerHTML = docLinkHtml;\n",
              "          element.appendChild(docLink);\n",
              "        }\n",
              "      </script>\n",
              "    </div>\n",
              "  </div>\n",
              "  "
            ]
          },
          "metadata": {},
          "execution_count": 4
        }
      ],
      "source": [
        "#@markdown Reading the 18 sentence list as **_data_**\n",
        "import pandas as pd\n",
        "\n",
        "url = \"https://raw.githubusercontent.com/MK316/workspace/main/ASR01/data/18RainbowSentences.csv\"\n",
        "data = pd.read_csv(url)\n",
        "data.head()"
      ]
    },
    {
      "cell_type": "markdown",
      "source": [
        "Reading audio files as **_audiodata_**"
      ],
      "metadata": {
        "id": "Nipluw6plJyV"
      }
    },
    {
      "cell_type": "markdown",
      "source": [
        "https://github.com/MK316/workspace/raw/main/ASR01/audio/one_22050.wav"
      ],
      "metadata": {
        "id": "Rx3SlhA8nklG"
      }
    },
    {
      "cell_type": "code",
      "source": [
        "!wget https://github.com/MK316/workspace/raw/main/ASR01/audio/one_22050.wav"
      ],
      "metadata": {
        "colab": {
          "base_uri": "https://localhost:8080/"
        },
        "id": "rD_6tJjTob8H",
        "outputId": "16029d60-1013-4240-9755-527a1187e046"
      },
      "execution_count": 9,
      "outputs": [
        {
          "output_type": "stream",
          "name": "stdout",
          "text": [
            "--2023-01-01 14:00:13--  https://github.com/MK316/workspace/raw/main/ASR01/audio/one_22050.wav\n",
            "Resolving github.com (github.com)... 140.82.114.4\n",
            "Connecting to github.com (github.com)|140.82.114.4|:443... connected.\n",
            "HTTP request sent, awaiting response... 302 Found\n",
            "Location: https://raw.githubusercontent.com/MK316/workspace/main/ASR01/audio/one_22050.wav [following]\n",
            "--2023-01-01 14:00:13--  https://raw.githubusercontent.com/MK316/workspace/main/ASR01/audio/one_22050.wav\n",
            "Resolving raw.githubusercontent.com (raw.githubusercontent.com)... 185.199.110.133, 185.199.111.133, 185.199.108.133, ...\n",
            "Connecting to raw.githubusercontent.com (raw.githubusercontent.com)|185.199.110.133|:443... connected.\n",
            "HTTP request sent, awaiting response... 200 OK\n",
            "Length: 32270 (32K) [audio/wav]\n",
            "Saving to: ‘one_22050.wav’\n",
            "\n",
            "one_22050.wav       100%[===================>]  31.51K  --.-KB/s    in 0.002s  \n",
            "\n",
            "2023-01-01 14:00:13 (19.9 MB/s) - ‘one_22050.wav’ saved [32270/32270]\n",
            "\n"
          ]
        }
      ]
    },
    {
      "cell_type": "code",
      "source": [
        "import wave\n",
        "\n",
        "# Open the audio file\n",
        "with wave.open('one_22050.wav', 'rb') as audio:\n",
        "    # Read the audio data\n",
        "    audio_data = audio.readframes(audio.getnframes())"
      ],
      "metadata": {
        "id": "9zymbN8In0gE"
      },
      "execution_count": 10,
      "outputs": []
    },
    {
      "cell_type": "code",
      "source": [
        "from IPython.display import Audio\n",
        "import os"
      ],
      "metadata": {
        "id": "VxhWPJ4OosEy"
      },
      "execution_count": 11,
      "outputs": []
    },
    {
      "cell_type": "code",
      "source": [
        "from IPython.display import Audio\n",
        "import requests\n",
        "\n",
        "# Read and play the audio file\n",
        "Audio(\"https://github.com/MK316/workspace/raw/main/ASR01/audio/one_22050.wav\")/\n",
        "\n",
        "# Read the audio file from the URL\n",
        "response = requests.get(\"https://github.com/MK316/workspace/raw/main/ASR01/audio/one_22050.wav\")\n",
        "\n",
        "# Play the audio file\n",
        "Audio(response.content)"
      ],
      "metadata": {
        "id": "Zz3DM4XBo4cF"
      },
      "execution_count": null,
      "outputs": []
    },
    {
      "cell_type": "code",
      "source": [
        "#@markdown Reading audio files as **_audiodata_**\n",
        "import IPython"
      ],
      "metadata": {
        "colab": {
          "base_uri": "https://localhost:8080/"
        },
        "id": "Ni9gcB6GdExd",
        "outputId": "64129e52-a6f9-4ef1-b5d9-c1187b1d0f4a"
      },
      "execution_count": 2,
      "outputs": [
        {
          "output_type": "stream",
          "name": "stderr",
          "text": [
            "/usr/local/lib/python3.8/dist-packages/IPython/core/interactiveshell.py:3326: FutureWarning: The error_bad_lines argument has been deprecated and will be removed in a future version.\n",
            "\n",
            "\n",
            "  exec(code_obj, self.user_global_ns, self.user_ns)\n",
            "b'Skipping line 28: expected 1 fields, saw 367\\nSkipping line 83: expected 1 fields, saw 3\\nSkipping line 128: expected 1 fields, saw 3\\nSkipping line 192: expected 1 fields, saw 3\\nSkipping line 201: expected 1 fields, saw 6\\nSkipping line 233: expected 1 fields, saw 4\\nSkipping line 246: expected 1 fields, saw 4\\nSkipping line 259: expected 1 fields, saw 4\\nSkipping line 272: expected 1 fields, saw 4\\nSkipping line 285: expected 1 fields, saw 4\\nSkipping line 298: expected 1 fields, saw 4\\nSkipping line 311: expected 1 fields, saw 4\\nSkipping line 324: expected 1 fields, saw 4\\nSkipping line 341: expected 1 fields, saw 4\\nSkipping line 348: expected 1 fields, saw 4\\nSkipping line 357: expected 1 fields, saw 4\\nSkipping line 366: expected 1 fields, saw 4\\nSkipping line 391: expected 1 fields, saw 4\\nSkipping line 398: expected 1 fields, saw 4\\nSkipping line 405: expected 1 fields, saw 4\\nSkipping line 412: expected 1 fields, saw 4\\nSkipping line 425: expected 1 fields, saw 4\\nSkipping line 432: expected 1 fields, saw 4\\nSkipping line 441: expected 1 fields, saw 4\\nSkipping line 454: expected 1 fields, saw 4\\nSkipping line 461: expected 1 fields, saw 4\\nSkipping line 485: expected 1 fields, saw 4\\nSkipping line 499: expected 1 fields, saw 4\\nSkipping line 514: expected 1 fields, saw 4\\nSkipping line 521: expected 1 fields, saw 4\\nSkipping line 528: expected 1 fields, saw 4\\nSkipping line 540: expected 1 fields, saw 3\\nSkipping line 559: expected 1 fields, saw 2\\nSkipping line 758: expected 1 fields, saw 6\\nSkipping line 759: expected 1 fields, saw 3\\nSkipping line 766: expected 1 fields, saw 6\\nSkipping line 767: expected 1 fields, saw 3\\nSkipping line 870: expected 1 fields, saw 6\\nSkipping line 877: expected 1 fields, saw 6\\nSkipping line 886: expected 1 fields, saw 6\\nSkipping line 911: expected 1 fields, saw 4\\nSkipping line 923: expected 1 fields, saw 4\\nSkipping line 935: expected 1 fields, saw 4\\nSkipping line 947: expected 1 fields, saw 4\\nSkipping line 959: expected 1 fields, saw 4\\nSkipping line 971: expected 1 fields, saw 4\\nSkipping line 982: expected 1 fields, saw 4\\nSkipping line 1068: expected 1 fields, saw 5\\nSkipping line 1238: expected 1 fields, saw 2\\nSkipping line 1263: expected 1 fields, saw 7\\nSkipping line 1304: expected 1 fields, saw 2\\nSkipping line 1365: expected 1 fields, saw 6\\nSkipping line 1374: expected 1 fields, saw 2\\nSkipping line 1404: expected 1 fields, saw 6\\nSkipping line 1414: expected 1 fields, saw 2\\nSkipping line 1457: expected 1 fields, saw 2\\nSkipping line 1485: expected 1 fields, saw 2\\nSkipping line 1495: expected 1 fields, saw 3\\nSkipping line 1500: expected 1 fields, saw 3\\nSkipping line 1505: expected 1 fields, saw 2\\nSkipping line 1510: expected 1 fields, saw 2\\nSkipping line 1545: expected 1 fields, saw 2\\nSkipping line 1555: expected 1 fields, saw 2\\nSkipping line 1565: expected 1 fields, saw 3\\nSkipping line 1570: expected 1 fields, saw 3\\nSkipping line 1621: expected 1 fields, saw 2\\nSkipping line 1629: expected 1 fields, saw 3\\nSkipping line 1630: expected 1 fields, saw 3\\nSkipping line 1631: expected 1 fields, saw 3\\nSkipping line 1632: expected 1 fields, saw 3\\nSkipping line 1633: expected 1 fields, saw 3\\nSkipping line 1634: expected 1 fields, saw 3\\nSkipping line 1635: expected 1 fields, saw 3\\nSkipping line 1636: expected 1 fields, saw 3\\nSkipping line 1637: expected 1 fields, saw 3\\nSkipping line 1638: expected 1 fields, saw 3\\nSkipping line 1639: expected 1 fields, saw 3\\n'\n"
          ]
        }
      ]
    },
    {
      "cell_type": "code",
      "source": [],
      "metadata": {
        "id": "0B9HQratnXH4"
      },
      "execution_count": null,
      "outputs": []
    }
  ]
}